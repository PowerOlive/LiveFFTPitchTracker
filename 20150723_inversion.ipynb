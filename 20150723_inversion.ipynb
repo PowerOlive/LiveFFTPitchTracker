{
 "cells": [
  {
   "cell_type": "markdown",
   "metadata": {},
   "source": [
    "On va tout d'abord importer les données mesurées pour en déduire les $\\rho_i$."
   ]
  },
  {
   "cell_type": "code",
   "execution_count": 1,
   "metadata": {
    "collapsed": true
   },
   "outputs": [],
   "source": [
    "data = \"\"\"79,05\t102,40\t115,40\t126,10\t217,50\t240,70\n",
    "82,4\t101,5\t114,1\t123,1\t215,8\t239\n",
    "81,90\t104,80\t113,20\t121,50\t214,20\t237,50\"\"\""
   ]
  },
  {
   "cell_type": "code",
   "execution_count": 30,
   "metadata": {
    "collapsed": true
   },
   "outputs": [],
   "source": [
    "data = data.replace(',', '.')"
   ]
  },
  {
   "cell_type": "code",
   "execution_count": 31,
   "metadata": {
    "collapsed": true
   },
   "outputs": [],
   "source": [
    "lines = data.split('\\n')"
   ]
  },
  {
   "cell_type": "code",
   "execution_count": 32,
   "metadata": {
    "collapsed": true
   },
   "outputs": [],
   "source": [
    "values = [line.split('\\t') for line in lines]"
   ]
  },
  {
   "cell_type": "code",
   "execution_count": 33,
   "metadata": {
    "collapsed": false
   },
   "outputs": [
    {
     "data": {
      "text/plain": [
       "[['79.05', '102.40', '115.40', '126.10', '217.50', '240.70'],\n",
       " ['82.4', '101.5', '114.1', '123.1', '215.8', '239'],\n",
       " ['81.90', '104.80', '113.20', '121.50', '214.20', '237.50']]"
      ]
     },
     "execution_count": 33,
     "metadata": {},
     "output_type": "execute_result"
    }
   ],
   "source": [
    "values"
   ]
  },
  {
   "cell_type": "code",
   "execution_count": 34,
   "metadata": {
    "collapsed": true
   },
   "outputs": [],
   "source": [
    "import numpy as np"
   ]
  },
  {
   "cell_type": "code",
   "execution_count": 35,
   "metadata": {
    "collapsed": true
   },
   "outputs": [],
   "source": [
    "import pandas as pd"
   ]
  },
  {
   "cell_type": "code",
   "execution_count": 36,
   "metadata": {
    "collapsed": false
   },
   "outputs": [],
   "source": [
    "s = pd.DataFrame(values)"
   ]
  },
  {
   "cell_type": "code",
   "execution_count": 37,
   "metadata": {
    "collapsed": false
   },
   "outputs": [
    {
     "data": {
      "text/html": [
       "<div style=\"max-height:1000px;max-width:1500px;overflow:auto;\">\n",
       "<table border=\"1\" class=\"dataframe\">\n",
       "  <thead>\n",
       "    <tr style=\"text-align: right;\">\n",
       "      <th></th>\n",
       "      <th>0</th>\n",
       "      <th>1</th>\n",
       "      <th>2</th>\n",
       "      <th>3</th>\n",
       "      <th>4</th>\n",
       "      <th>5</th>\n",
       "    </tr>\n",
       "  </thead>\n",
       "  <tbody>\n",
       "    <tr>\n",
       "      <th>0</th>\n",
       "      <td> 79.05</td>\n",
       "      <td> 102.40</td>\n",
       "      <td> 115.40</td>\n",
       "      <td> 126.10</td>\n",
       "      <td> 217.50</td>\n",
       "      <td> 240.70</td>\n",
       "    </tr>\n",
       "    <tr>\n",
       "      <th>1</th>\n",
       "      <td>  82.4</td>\n",
       "      <td>  101.5</td>\n",
       "      <td>  114.1</td>\n",
       "      <td>  123.1</td>\n",
       "      <td>  215.8</td>\n",
       "      <td>    239</td>\n",
       "    </tr>\n",
       "    <tr>\n",
       "      <th>2</th>\n",
       "      <td> 81.90</td>\n",
       "      <td> 104.80</td>\n",
       "      <td> 113.20</td>\n",
       "      <td> 121.50</td>\n",
       "      <td> 214.20</td>\n",
       "      <td> 237.50</td>\n",
       "    </tr>\n",
       "  </tbody>\n",
       "</table>\n",
       "</div>"
      ],
      "text/plain": [
       "       0       1       2       3       4       5\n",
       "0  79.05  102.40  115.40  126.10  217.50  240.70\n",
       "1   82.4   101.5   114.1   123.1   215.8     239\n",
       "2  81.90  104.80  113.20  121.50  214.20  237.50"
      ]
     },
     "execution_count": 37,
     "metadata": {},
     "output_type": "execute_result"
    }
   ],
   "source": [
    "s"
   ]
  },
  {
   "cell_type": "code",
   "execution_count": 41,
   "metadata": {
    "collapsed": false
   },
   "outputs": [
    {
     "data": {
      "text/plain": [
       "array([[  79.05,  102.4 ,  115.4 ,  126.1 ,  217.5 ,  240.7 ],\n",
       "       [  82.4 ,  101.5 ,  114.1 ,  123.1 ,  215.8 ,  239.  ],\n",
       "       [  81.9 ,  104.8 ,  113.2 ,  121.5 ,  214.2 ,  237.5 ]])"
      ]
     },
     "execution_count": 41,
     "metadata": {},
     "output_type": "execute_result"
    }
   ],
   "source": [
    "s.values.astype(np.float)"
   ]
  },
  {
   "cell_type": "code",
   "execution_count": 42,
   "metadata": {
    "collapsed": false
   },
   "outputs": [],
   "source": [
    "df = pd.DataFrame(s.values.astype(np.float), columns=range(6))"
   ]
  },
  {
   "cell_type": "code",
   "execution_count": 44,
   "metadata": {
    "collapsed": false
   },
   "outputs": [
    {
     "data": {
      "text/html": [
       "<div style=\"max-height:1000px;max-width:1500px;overflow:auto;\">\n",
       "<table border=\"1\" class=\"dataframe\">\n",
       "  <thead>\n",
       "    <tr style=\"text-align: right;\">\n",
       "      <th></th>\n",
       "      <th>0</th>\n",
       "      <th>1</th>\n",
       "      <th>2</th>\n",
       "      <th>3</th>\n",
       "      <th>4</th>\n",
       "      <th>5</th>\n",
       "    </tr>\n",
       "  </thead>\n",
       "  <tbody>\n",
       "    <tr>\n",
       "      <th>0</th>\n",
       "      <td> 79.05</td>\n",
       "      <td> 102.4</td>\n",
       "      <td> 115.4</td>\n",
       "      <td> 126.1</td>\n",
       "      <td> 217.5</td>\n",
       "      <td> 240.7</td>\n",
       "    </tr>\n",
       "    <tr>\n",
       "      <th>1</th>\n",
       "      <td> 82.40</td>\n",
       "      <td> 101.5</td>\n",
       "      <td> 114.1</td>\n",
       "      <td> 123.1</td>\n",
       "      <td> 215.8</td>\n",
       "      <td> 239.0</td>\n",
       "    </tr>\n",
       "    <tr>\n",
       "      <th>2</th>\n",
       "      <td> 81.90</td>\n",
       "      <td> 104.8</td>\n",
       "      <td> 113.2</td>\n",
       "      <td> 121.5</td>\n",
       "      <td> 214.2</td>\n",
       "      <td> 237.5</td>\n",
       "    </tr>\n",
       "  </tbody>\n",
       "</table>\n",
       "</div>"
      ],
      "text/plain": [
       "       0      1      2      3      4      5\n",
       "0  79.05  102.4  115.4  126.1  217.5  240.7\n",
       "1  82.40  101.5  114.1  123.1  215.8  239.0\n",
       "2  81.90  104.8  113.2  121.5  214.2  237.5"
      ]
     },
     "execution_count": 44,
     "metadata": {},
     "output_type": "execute_result"
    }
   ],
   "source": [
    "df"
   ]
  },
  {
   "cell_type": "markdown",
   "metadata": {},
   "source": [
    "Il nous faut construire le vecteur des $\\Delta T _ i$ à partir des mesures de fréquences. On construit d'abord le vecteur des $F_i$"
   ]
  },
  {
   "cell_type": "code",
   "execution_count": 45,
   "metadata": {
    "collapsed": false
   },
   "outputs": [
    {
     "data": {
      "text/html": [
       "<div style=\"max-height:1000px;max-width:1500px;overflow:auto;\">\n",
       "<table border=\"1\" class=\"dataframe\">\n",
       "  <thead>\n",
       "    <tr style=\"text-align: right;\">\n",
       "      <th></th>\n",
       "      <th>0</th>\n",
       "      <th>1</th>\n",
       "      <th>2</th>\n",
       "      <th>3</th>\n",
       "      <th>4</th>\n",
       "      <th>5</th>\n",
       "    </tr>\n",
       "  </thead>\n",
       "  <tbody>\n",
       "    <tr>\n",
       "      <th>0</th>\n",
       "      <td> 6248.9025</td>\n",
       "      <td> 10485.76</td>\n",
       "      <td> 13317.16</td>\n",
       "      <td> 15901.21</td>\n",
       "      <td> 47306.25</td>\n",
       "      <td> 57936.49</td>\n",
       "    </tr>\n",
       "    <tr>\n",
       "      <th>1</th>\n",
       "      <td> 6789.7600</td>\n",
       "      <td> 10302.25</td>\n",
       "      <td> 13018.81</td>\n",
       "      <td> 15153.61</td>\n",
       "      <td> 46569.64</td>\n",
       "      <td> 57121.00</td>\n",
       "    </tr>\n",
       "    <tr>\n",
       "      <th>2</th>\n",
       "      <td> 6707.6100</td>\n",
       "      <td> 10983.04</td>\n",
       "      <td> 12814.24</td>\n",
       "      <td> 14762.25</td>\n",
       "      <td> 45881.64</td>\n",
       "      <td> 56406.25</td>\n",
       "    </tr>\n",
       "  </tbody>\n",
       "</table>\n",
       "</div>"
      ],
      "text/plain": [
       "           0         1         2         3         4         5\n",
       "0  6248.9025  10485.76  13317.16  15901.21  47306.25  57936.49\n",
       "1  6789.7600  10302.25  13018.81  15153.61  46569.64  57121.00\n",
       "2  6707.6100  10983.04  12814.24  14762.25  45881.64  56406.25"
      ]
     },
     "execution_count": 45,
     "metadata": {},
     "output_type": "execute_result"
    }
   ],
   "source": [
    "df ** 2"
   ]
  },
  {
   "cell_type": "code",
   "execution_count": 49,
   "metadata": {
    "collapsed": false
   },
   "outputs": [
    {
     "data": {
      "text/plain": [
       "6248.9024999999992"
      ]
     },
     "execution_count": 49,
     "metadata": {},
     "output_type": "execute_result"
    }
   ],
   "source": [
    "(df ** 2).ix[0][0]\n"
   ]
  },
  {
   "cell_type": "code",
   "execution_count": 52,
   "metadata": {
    "collapsed": false
   },
   "outputs": [
    {
     "data": {
      "text/plain": [
       "array([ 0.00824942,  0.0056041 ,  0.00304088,  0.00128166,  0.00077511,\n",
       "        0.00047849])"
      ]
     },
     "execution_count": 52,
     "metadata": {},
     "output_type": "execute_result"
    }
   ],
   "source": [
    "freqs = np.array([82.4, 110., 146.8, 196., 246.9, 329.6]) # frequencies of the guitar strings, from low E to high E, in Hz\n",
    "calibration_tensions = np.array([9.59, 11.61, 11.22, 8.43, 8.09, 8.9]) * 9.81 # calibration tensions found on package (in kg) converted to N\n",
    "mu = calibration_tensions / (4 * 0.648**2 * freqs**2) \n",
    "mu"
   ]
  },
  {
   "cell_type": "code",
   "execution_count": 53,
   "metadata": {
    "collapsed": true
   },
   "outputs": [],
   "source": [
    "psi = 4 * 0.648**2 * mu"
   ]
  },
  {
   "cell_type": "code",
   "execution_count": 54,
   "metadata": {
    "collapsed": false
   },
   "outputs": [
    {
     "data": {
      "text/plain": [
       "array([ 0.01385585,  0.00941274,  0.00510752,  0.0021527 ,  0.00130189,\n",
       "        0.00080368])"
      ]
     },
     "execution_count": 54,
     "metadata": {},
     "output_type": "execute_result"
    }
   ],
   "source": [
    "psi"
   ]
  },
  {
   "cell_type": "code",
   "execution_count": 64,
   "metadata": {
    "collapsed": false
   },
   "outputs": [
    {
     "data": {
      "text/plain": [
       "array([[  86.5838593 ,   98.69968579,   68.01761049,   34.23060795,\n",
       "          61.58768385,   46.56255344],\n",
       "       [  94.0779    ,   96.97235469,   66.49378303,   32.62124599,\n",
       "          60.62869632,   45.90715825],\n",
       "       [  92.93964188,  103.38045091,   65.44893844,   31.77876351,\n",
       "          59.73299382,   45.33272606]])"
      ]
     },
     "execution_count": 64,
     "metadata": {},
     "output_type": "execute_result"
    }
   ],
   "source": [
    "T = (df ** 2).values * psi\n",
    "T"
   ]
  },
  {
   "cell_type": "markdown",
   "metadata": {},
   "source": [
    "**attention** les tensions sont bien en Newton, pas en kg comme dans la feuille Numbers."
   ]
  },
  {
   "cell_type": "markdown",
   "metadata": {},
   "source": [
    "On peut maintenant construire une première matrice de 5 lignes fois 6 colonnes."
   ]
  },
  {
   "cell_type": "code",
   "execution_count": 92,
   "metadata": {
    "collapsed": false
   },
   "outputs": [
    {
     "data": {
      "text/plain": [
       "array([ 7.4940407 , -1.7273311 , -1.52382746, -1.60936196, -0.95898753,\n",
       "       -0.65539519])"
      ]
     },
     "execution_count": 92,
     "metadata": {},
     "output_type": "execute_result"
    }
   ],
   "source": [
    "T_end = T[1, :]\n",
    "T_start = T[0, :]\n",
    "\n",
    "mat = np.zeros((5, 6))\n",
    "dT = T_end - T_start\n",
    "\n",
    "dT"
   ]
  },
  {
   "cell_type": "code",
   "execution_count": 93,
   "metadata": {
    "collapsed": false
   },
   "outputs": [
    {
     "data": {
      "text/plain": [
       "array([[ 0.,  0.,  0.,  0.,  0.,  0.],\n",
       "       [ 0.,  0.,  0.,  0.,  0.,  0.],\n",
       "       [ 0.,  0.,  0.,  0.,  0.,  0.],\n",
       "       [ 0.,  0.,  0.,  0.,  0.,  0.],\n",
       "       [ 0.,  0.,  0.,  0.,  0.,  0.]])"
      ]
     },
     "execution_count": 93,
     "metadata": {},
     "output_type": "execute_result"
    }
   ],
   "source": [
    "mat"
   ]
  },
  {
   "cell_type": "markdown",
   "metadata": {},
   "source": [
    "On s'attend à ce qu'il n'y ait qu'une valeur qui a augmenté, ici c'est la première."
   ]
  },
  {
   "cell_type": "code",
   "execution_count": 94,
   "metadata": {
    "collapsed": false
   },
   "outputs": [
    {
     "data": {
      "text/plain": [
       "(array([0]),)"
      ]
     },
     "execution_count": 94,
     "metadata": {},
     "output_type": "execute_result"
    }
   ],
   "source": [
    "np.nonzero(dT > 0)"
   ]
  },
  {
   "cell_type": "code",
   "execution_count": 95,
   "metadata": {
    "collapsed": true
   },
   "outputs": [],
   "source": [
    "tuned_string = np.nonzero(dT > 0)[0]\n",
    "assert tuned_string.size == 1\n",
    "tuned_string = tuned_string[0]"
   ]
  },
  {
   "cell_type": "code",
   "execution_count": 96,
   "metadata": {
    "collapsed": false
   },
   "outputs": [
    {
     "data": {
      "text/plain": [
       "0"
      ]
     },
     "execution_count": 96,
     "metadata": {},
     "output_type": "execute_result"
    }
   ],
   "source": [
    "tuned_string"
   ]
  },
  {
   "cell_type": "code",
   "execution_count": 97,
   "metadata": {
    "collapsed": false
   },
   "outputs": [],
   "source": [
    "\n",
    "cnt = 0\n",
    "for string in range(6):\n",
    "        if string == tuned_string:\n",
    "            continue\n",
    "        else:\n",
    "            for other_string in range(6):\n",
    "                if other_string == tuned_string:\n",
    "                    mat[cnt, other_string] = 0\n",
    "                elif other_string == string:\n",
    "                    mat[cnt, other_string] = dT[tuned_string] + dT[string]\n",
    "                else:\n",
    "                    mat[cnt, other_string] = dT[string]\n",
    "            cnt += 1"
   ]
  },
  {
   "cell_type": "code",
   "execution_count": 99,
   "metadata": {
    "collapsed": false
   },
   "outputs": [
    {
     "data": {
      "text/plain": [
       "array([ 0.       ,  5.7667096, -1.7273311, -1.7273311, -1.7273311,\n",
       "       -1.7273311])"
      ]
     },
     "execution_count": 99,
     "metadata": {},
     "output_type": "execute_result"
    }
   ],
   "source": [
    "mat[0]"
   ]
  },
  {
   "cell_type": "code",
   "execution_count": 101,
   "metadata": {
    "collapsed": false
   },
   "outputs": [
    {
     "data": {
      "text/plain": [
       "array([ 0.        , -1.52382746,  5.97021324, -1.52382746, -1.52382746,\n",
       "       -1.52382746])"
      ]
     },
     "execution_count": 101,
     "metadata": {},
     "output_type": "execute_result"
    }
   ],
   "source": [
    "mat[1]"
   ]
  },
  {
   "cell_type": "code",
   "execution_count": 105,
   "metadata": {
    "collapsed": false
   },
   "outputs": [
    {
     "data": {
      "text/plain": [
       "array([[ 0.        ,  5.7667096 , -1.7273311 , -1.7273311 , -1.7273311 ,\n",
       "        -1.7273311 ],\n",
       "       [ 0.        , -1.52382746,  5.97021324, -1.52382746, -1.52382746,\n",
       "        -1.52382746],\n",
       "       [ 0.        , -1.60936196, -1.60936196,  5.88467874, -1.60936196,\n",
       "        -1.60936196],\n",
       "       [ 0.        , -0.95898753, -0.95898753, -0.95898753,  6.53505317,\n",
       "        -0.95898753],\n",
       "       [ 0.        , -0.65539519, -0.65539519, -0.65539519, -0.65539519,\n",
       "         6.83864552]])"
      ]
     },
     "execution_count": 105,
     "metadata": {},
     "output_type": "execute_result"
    }
   ],
   "source": [
    "mat"
   ]
  },
  {
   "cell_type": "markdown",
   "metadata": {},
   "source": [
    "On peut écrire une fonction avec le code précédent :"
   ]
  },
  {
   "cell_type": "code",
   "execution_count": 111,
   "metadata": {
    "collapsed": false
   },
   "outputs": [],
   "source": [
    "def make_matrix(T_end, T_start):\n",
    "    mat = np.zeros((5, 6))\n",
    "    dT = T_end - T_start\n",
    "    tuned_string = np.nonzero(dT > 0)[0]\n",
    "    assert tuned_string.size == 1\n",
    "    tuned_string = tuned_string[0]\n",
    "\n",
    "    cnt = 0\n",
    "    for string in range(6):\n",
    "            if string == tuned_string:\n",
    "                continue\n",
    "            else:\n",
    "                for other_string in range(6):\n",
    "                    if other_string == tuned_string:\n",
    "                        mat[cnt, other_string] = 0\n",
    "                    elif other_string == string:\n",
    "                        mat[cnt, other_string] = dT[tuned_string] + dT[string]\n",
    "                    else:\n",
    "                        mat[cnt, other_string] = dT[string]\n",
    "                cnt += 1\n",
    "\n",
    "    rhs = -dT[[_ for _ in range(6) if _ != tuned_string]] \n",
    "    return mat, rhs"
   ]
  },
  {
   "cell_type": "code",
   "execution_count": 112,
   "metadata": {
    "collapsed": false
   },
   "outputs": [
    {
     "data": {
      "text/plain": [
       "(array([[ 0.        ,  5.7667096 , -1.7273311 , -1.7273311 , -1.7273311 ,\n",
       "         -1.7273311 ],\n",
       "        [ 0.        , -1.52382746,  5.97021324, -1.52382746, -1.52382746,\n",
       "         -1.52382746],\n",
       "        [ 0.        , -1.60936196, -1.60936196,  5.88467874, -1.60936196,\n",
       "         -1.60936196],\n",
       "        [ 0.        , -0.95898753, -0.95898753, -0.95898753,  6.53505317,\n",
       "         -0.95898753],\n",
       "        [ 0.        , -0.65539519, -0.65539519, -0.65539519, -0.65539519,\n",
       "          6.83864552]]),\n",
       " array([ 1.7273311 ,  1.52382746,  1.60936196,  0.95898753,  0.65539519]))"
      ]
     },
     "execution_count": 112,
     "metadata": {},
     "output_type": "execute_result"
    }
   ],
   "source": [
    "make_matrix(T_end, T_start)"
   ]
  },
  {
   "cell_type": "markdown",
   "metadata": {},
   "source": [
    "On vérifie que le RHS est correct :"
   ]
  },
  {
   "cell_type": "code",
   "execution_count": 113,
   "metadata": {
    "collapsed": false
   },
   "outputs": [
    {
     "data": {
      "text/plain": [
       "array([ 7.4940407 , -1.7273311 , -1.52382746, -1.60936196, -0.95898753,\n",
       "       -0.65539519])"
      ]
     },
     "execution_count": 113,
     "metadata": {},
     "output_type": "execute_result"
    }
   ],
   "source": [
    "dT"
   ]
  },
  {
   "cell_type": "markdown",
   "metadata": {},
   "source": [
    "On peut maintenant construire les deux matrices :"
   ]
  },
  {
   "cell_type": "code",
   "execution_count": 114,
   "metadata": {
    "collapsed": true
   },
   "outputs": [],
   "source": [
    "mat1, rhs1 = make_matrix(T[1, :], T[0, :])\n",
    "mat2, rhs2 = make_matrix(T[2, :], T[1, :])"
   ]
  },
  {
   "cell_type": "code",
   "execution_count": 115,
   "metadata": {
    "collapsed": false
   },
   "outputs": [
    {
     "data": {
      "text/plain": [
       "array([[ 5.2698381 ,  0.        , -1.13825812, -1.13825812, -1.13825812,\n",
       "        -1.13825812],\n",
       "       [-1.04484459,  0.        ,  5.36325164, -1.04484459, -1.04484459,\n",
       "        -1.04484459],\n",
       "       [-0.84248247,  0.        , -0.84248247,  5.56561375, -0.84248247,\n",
       "        -0.84248247],\n",
       "       [-0.8957025 ,  0.        , -0.8957025 , -0.8957025 ,  5.51239372,\n",
       "        -0.8957025 ],\n",
       "       [-0.57443219,  0.        , -0.57443219, -0.57443219, -0.57443219,\n",
       "         5.83366403]])"
      ]
     },
     "execution_count": 115,
     "metadata": {},
     "output_type": "execute_result"
    }
   ],
   "source": [
    "mat2"
   ]
  },
  {
   "cell_type": "code",
   "execution_count": 116,
   "metadata": {
    "collapsed": false
   },
   "outputs": [
    {
     "data": {
      "text/plain": [
       "array([ 1.13825812,  1.04484459,  0.84248247,  0.8957025 ,  0.57443219])"
      ]
     },
     "execution_count": 116,
     "metadata": {},
     "output_type": "execute_result"
    }
   ],
   "source": [
    "rhs2"
   ]
  },
  {
   "cell_type": "markdown",
   "metadata": {},
   "source": [
    "On peut les concaténer :"
   ]
  },
  {
   "cell_type": "code",
   "execution_count": 123,
   "metadata": {
    "collapsed": false
   },
   "outputs": [],
   "source": [
    "total_mat = np.vstack((mat1, mat2))\n",
    "total_rhs = np.vstack((rhs1[:, np.newaxis], \n",
    "                       rhs2[:, np.newaxis]))"
   ]
  },
  {
   "cell_type": "code",
   "execution_count": 124,
   "metadata": {
    "collapsed": false
   },
   "outputs": [
    {
     "data": {
      "text/plain": [
       "array([[ 0.        ,  5.7667096 , -1.7273311 , -1.7273311 , -1.7273311 ,\n",
       "        -1.7273311 ],\n",
       "       [ 0.        , -1.52382746,  5.97021324, -1.52382746, -1.52382746,\n",
       "        -1.52382746],\n",
       "       [ 0.        , -1.60936196, -1.60936196,  5.88467874, -1.60936196,\n",
       "        -1.60936196],\n",
       "       [ 0.        , -0.95898753, -0.95898753, -0.95898753,  6.53505317,\n",
       "        -0.95898753],\n",
       "       [ 0.        , -0.65539519, -0.65539519, -0.65539519, -0.65539519,\n",
       "         6.83864552],\n",
       "       [ 5.2698381 ,  0.        , -1.13825812, -1.13825812, -1.13825812,\n",
       "        -1.13825812],\n",
       "       [-1.04484459,  0.        ,  5.36325164, -1.04484459, -1.04484459,\n",
       "        -1.04484459],\n",
       "       [-0.84248247,  0.        , -0.84248247,  5.56561375, -0.84248247,\n",
       "        -0.84248247],\n",
       "       [-0.8957025 ,  0.        , -0.8957025 , -0.8957025 ,  5.51239372,\n",
       "        -0.8957025 ],\n",
       "       [-0.57443219,  0.        , -0.57443219, -0.57443219, -0.57443219,\n",
       "         5.83366403]])"
      ]
     },
     "execution_count": 124,
     "metadata": {},
     "output_type": "execute_result"
    }
   ],
   "source": [
    "total_mat"
   ]
  },
  {
   "cell_type": "code",
   "execution_count": 125,
   "metadata": {
    "collapsed": false
   },
   "outputs": [
    {
     "data": {
      "text/plain": [
       "array([[ 1.7273311 ],\n",
       "       [ 1.52382746],\n",
       "       [ 1.60936196],\n",
       "       [ 0.95898753],\n",
       "       [ 0.65539519],\n",
       "       [ 1.13825812],\n",
       "       [ 1.04484459],\n",
       "       [ 0.84248247],\n",
       "       [ 0.8957025 ],\n",
       "       [ 0.57443219]])"
      ]
     },
     "execution_count": 125,
     "metadata": {},
     "output_type": "execute_result"
    }
   ],
   "source": [
    "total_rhs"
   ]
  },
  {
   "cell_type": "markdown",
   "metadata": {},
   "source": [
    "On peut maintenant inverser le système :"
   ]
  },
  {
   "cell_type": "code",
   "execution_count": 126,
   "metadata": {
    "collapsed": false
   },
   "outputs": [
    {
     "data": {
      "text/plain": [
       "(10, 6)"
      ]
     },
     "execution_count": 126,
     "metadata": {},
     "output_type": "execute_result"
    }
   ],
   "source": [
    "total_mat.shape"
   ]
  },
  {
   "cell_type": "code",
   "execution_count": 127,
   "metadata": {
    "collapsed": false
   },
   "outputs": [
    {
     "data": {
      "text/plain": [
       "(10, 1)"
      ]
     },
     "execution_count": 127,
     "metadata": {},
     "output_type": "execute_result"
    }
   ],
   "source": [
    "total_rhs.shape"
   ]
  },
  {
   "cell_type": "code",
   "execution_count": 134,
   "metadata": {
    "collapsed": false
   },
   "outputs": [],
   "source": [
    "rho, err, rank, eigs = np.linalg.lstsq(total_mat, total_rhs)"
   ]
  },
  {
   "cell_type": "code",
   "execution_count": 138,
   "metadata": {
    "collapsed": false
   },
   "outputs": [
    {
     "data": {
      "text/plain": [
       "array([ 4.68733407])"
      ]
     },
     "execution_count": 138,
     "metadata": {},
     "output_type": "execute_result"
    }
   ],
   "source": [
    "err"
   ]
  },
  {
   "cell_type": "code",
   "execution_count": 131,
   "metadata": {
    "collapsed": false
   },
   "outputs": [
    {
     "data": {
      "text/plain": [
       "array([[ 0.66780388],\n",
       "       [ 0.77487632],\n",
       "       [ 0.64784761],\n",
       "       [ 0.62381181],\n",
       "       [ 0.447418  ],\n",
       "       [ 0.2813956 ]])"
      ]
     },
     "execution_count": 131,
     "metadata": {},
     "output_type": "execute_result"
    }
   ],
   "source": [
    "rho"
   ]
  },
  {
   "cell_type": "code",
   "execution_count": 135,
   "metadata": {
    "collapsed": false
   },
   "outputs": [
    {
     "data": {
      "text/plain": [
       "array([ 4.68733407])"
      ]
     },
     "execution_count": 135,
     "metadata": {},
     "output_type": "execute_result"
    }
   ],
   "source": [
    "err"
   ]
  },
  {
   "cell_type": "markdown",
   "metadata": {},
   "source": [
    "On a la solution ! \n",
    "\n",
    "**cependant** on note que les raideurs ne sont pas exactement dans l'ordre croissant !! Problème ou pas ?"
   ]
  },
  {
   "cell_type": "markdown",
   "metadata": {},
   "source": [
    "# Vérification des prédictions du modèle "
   ]
  },
  {
   "cell_type": "markdown",
   "metadata": {},
   "source": [
    "On peut maintenant voir si ces coefs permettent de bien prédire la variation de tension observée. On peut tout simplement repartir des matrices mat1 et mat2 et vérifier que l'on tombe bien sur ce qu'on veut."
   ]
  },
  {
   "cell_type": "code",
   "execution_count": 132,
   "metadata": {
    "collapsed": false
   },
   "outputs": [
    {
     "data": {
      "text/plain": [
       "array([[ 1.01300744],\n",
       "       [ 0.62584279],\n",
       "       [ 0.20832944],\n",
       "       [ 0.69144332],\n",
       "       [ 0.28983951]])"
      ]
     },
     "execution_count": 132,
     "metadata": {},
     "output_type": "execute_result"
    }
   ],
   "source": [
    "np.dot(mat1, rho)"
   ]
  },
  {
   "cell_type": "code",
   "execution_count": 133,
   "metadata": {
    "collapsed": false
   },
   "outputs": [
    {
     "data": {
      "text/plain": [
       "array([ 1.7273311 ,  1.52382746,  1.60936196,  0.95898753,  0.65539519])"
      ]
     },
     "execution_count": 133,
     "metadata": {},
     "output_type": "execute_result"
    }
   ],
   "source": [
    "rhs1"
   ]
  },
  {
   "cell_type": "markdown",
   "metadata": {},
   "source": [
    "Mouai..."
   ]
  },
  {
   "cell_type": "code",
   "execution_count": 136,
   "metadata": {
    "collapsed": false
   },
   "outputs": [
    {
     "data": {
      "text/plain": [
       "array([[ 1.24216364],\n",
       "       [ 1.36353512],\n",
       "       [ 1.74946958],\n",
       "       [ 0.47711533],\n",
       "       [ 0.27046595]])"
      ]
     },
     "execution_count": 136,
     "metadata": {},
     "output_type": "execute_result"
    }
   ],
   "source": [
    "np.dot(mat2, rho)"
   ]
  },
  {
   "cell_type": "code",
   "execution_count": 137,
   "metadata": {
    "collapsed": false
   },
   "outputs": [
    {
     "data": {
      "text/plain": [
       "array([ 1.13825812,  1.04484459,  0.84248247,  0.8957025 ,  0.57443219])"
      ]
     },
     "execution_count": 137,
     "metadata": {},
     "output_type": "execute_result"
    }
   ],
   "source": [
    "rhs2"
   ]
  },
  {
   "cell_type": "markdown",
   "metadata": {},
   "source": [
    "Ceci est peut être dû à l'erreur à l'issue de la régression linéaire... on va quand même essayer d'implémenter la méthode d'inversion pour l'accordage."
   ]
  },
  {
   "cell_type": "markdown",
   "metadata": {},
   "source": [
    "# Méthode d'accordage "
   ]
  },
  {
   "cell_type": "markdown",
   "metadata": {},
   "source": [
    "Il faut ici encore construire la matrice responsable de l'accordage."
   ]
  },
  {
   "cell_type": "code",
   "execution_count": 170,
   "metadata": {
    "collapsed": true
   },
   "outputs": [],
   "source": [
    "tuning_mat = np.zeros((6, 6))\n",
    "\n",
    "for other_string in range(6):\n",
    "    for tuning_string in range(6):\n",
    "        if tuning_string == other_string:\n",
    "            tuning_mat[other_string, tuning_string] = 1.\n",
    "        else:\n",
    "            tuning_mat[other_string, tuning_string] = \\\n",
    "                    psi[tuning_string] / psi[other_string] * \\\n",
    "                        (- rho[other_string] / (1 + np.sum([rho[i] for i in range(6) if i != tuning_string])))"
   ]
  },
  {
   "cell_type": "code",
   "execution_count": 171,
   "metadata": {
    "collapsed": false
   },
   "outputs": [
    {
     "data": {
      "text/plain": [
       "array([[ 1.        , -0.12367146, -0.06486027, -0.02716512, -0.01570343,\n",
       "        -0.0093073 ],\n",
       "       [-0.30212911,  1.        , -0.11078464, -0.04639941, -0.02682225,\n",
       "        -0.01589734],\n",
       "       [-0.46552087, -0.32547441,  1.        , -0.07149227, -0.04132775,\n",
       "        -0.02449463],\n",
       "       [-1.06351887, -0.74357178, -0.38997086,  1.        , -0.09441648,\n",
       "        -0.05595991],\n",
       "       [-1.26128768, -0.88184418, -0.46248868, -0.19370198,  1.        ,\n",
       "        -0.06636604],\n",
       "       [-1.28501663, -0.89843455, -0.4711896 , -0.19734615, -0.11408048,\n",
       "         1.        ]])"
      ]
     },
     "execution_count": 171,
     "metadata": {},
     "output_type": "execute_result"
    }
   ],
   "source": [
    "tuning_mat"
   ]
  },
  {
   "cell_type": "code",
   "execution_count": 172,
   "metadata": {
    "collapsed": false
   },
   "outputs": [
    {
     "data": {
      "text/plain": [
       "array([ 1.        , -0.30212911, -0.46552087, -1.06351887, -1.26128768,\n",
       "       -1.28501663])"
      ]
     },
     "execution_count": 172,
     "metadata": {},
     "output_type": "execute_result"
    }
   ],
   "source": [
    "np.dot(tuning_mat, np.array([1, 0, 0, 0, 0, 0]))"
   ]
  },
  {
   "cell_type": "markdown",
   "metadata": {},
   "source": [
    "On vérifie que ces termes sont les bons."
   ]
  },
  {
   "cell_type": "code",
   "execution_count": 173,
   "metadata": {
    "collapsed": false
   },
   "outputs": [
    {
     "data": {
      "text/plain": [
       "array([-0.30212911])"
      ]
     },
     "execution_count": 173,
     "metadata": {},
     "output_type": "execute_result"
    }
   ],
   "source": [
    "psi[0] / psi[1] * (- rho[1] / (1 + np.sum([rho[k] for k in range(6) if k != 0])))"
   ]
  },
  {
   "cell_type": "markdown",
   "metadata": {},
   "source": [
    "On écrit la fonction pour calculer la matrice :"
   ]
  },
  {
   "cell_type": "code",
   "execution_count": 197,
   "metadata": {
    "collapsed": true
   },
   "outputs": [],
   "source": [
    "def compute_tuning_matrix(psi, rho):\n",
    "    tuning_mat = np.zeros((6, 6))\n",
    "\n",
    "    for other_string in range(6):\n",
    "        for tuning_string in range(6):\n",
    "            if tuning_string == other_string:\n",
    "                tuning_mat[other_string, tuning_string] = 1.\n",
    "            else:\n",
    "                tuning_mat[other_string, tuning_string] = \\\n",
    "                        psi[tuning_string] / psi[other_string] * \\\n",
    "                            (- rho[other_string] / (1 + np.sum([rho[i] for i in range(6) if i != tuning_string])))\n",
    "    return tuning_mat"
   ]
  },
  {
   "cell_type": "code",
   "execution_count": 198,
   "metadata": {
    "collapsed": false
   },
   "outputs": [
    {
     "data": {
      "text/plain": [
       "array([[ 1.        , -0.12367146, -0.06486027, -0.02716512, -0.01570343,\n",
       "        -0.0093073 ],\n",
       "       [-0.30212911,  1.        , -0.11078464, -0.04639941, -0.02682225,\n",
       "        -0.01589734],\n",
       "       [-0.46552087, -0.32547441,  1.        , -0.07149227, -0.04132775,\n",
       "        -0.02449463],\n",
       "       [-1.06351887, -0.74357178, -0.38997086,  1.        , -0.09441648,\n",
       "        -0.05595991],\n",
       "       [-1.26128768, -0.88184418, -0.46248868, -0.19370198,  1.        ,\n",
       "        -0.06636604],\n",
       "       [-1.28501663, -0.89843455, -0.4711896 , -0.19734615, -0.11408048,\n",
       "         1.        ]])"
      ]
     },
     "execution_count": 198,
     "metadata": {},
     "output_type": "execute_result"
    }
   ],
   "source": [
    "compute_tuning_matrix(psi, rho)"
   ]
  },
  {
   "cell_type": "markdown",
   "metadata": {},
   "source": [
    "On peut maintenant inverser la matrice en calculant l'accordage cible."
   ]
  },
  {
   "cell_type": "code",
   "execution_count": 174,
   "metadata": {
    "collapsed": false
   },
   "outputs": [
    {
     "data": {
      "text/plain": [
       "array([  82.4,  110. ,  146.8,  196. ,  246.9,  329.6])"
      ]
     },
     "execution_count": 174,
     "metadata": {},
     "output_type": "execute_result"
    }
   ],
   "source": [
    "freqs"
   ]
  },
  {
   "cell_type": "markdown",
   "metadata": {},
   "source": [
    "Le $\\Delta f$ à appliquer peut se calculer en faisant la différence à obtenir :"
   ]
  },
  {
   "cell_type": "code",
   "execution_count": 184,
   "metadata": {
    "collapsed": true
   },
   "outputs": [],
   "source": [
    "target_freqs = freqs.copy()"
   ]
  },
  {
   "cell_type": "code",
   "execution_count": 185,
   "metadata": {
    "collapsed": true
   },
   "outputs": [],
   "source": [
    "current_freqs = df.values[2, :]"
   ]
  },
  {
   "cell_type": "markdown",
   "metadata": {},
   "source": [
    "L'écart que l'on cherche à obtenir est donc :"
   ]
  },
  {
   "cell_type": "code",
   "execution_count": 187,
   "metadata": {
    "collapsed": false
   },
   "outputs": [
    {
     "data": {
      "text/plain": [
       "array([  0.5,   5.2,  33.6,  74.5,  32.7,  92.1])"
      ]
     },
     "execution_count": 187,
     "metadata": {},
     "output_type": "execute_result"
    }
   ],
   "source": [
    "target_freqs - current_freqs"
   ]
  },
  {
   "cell_type": "markdown",
   "metadata": {},
   "source": [
    "On doit le mettre au carré :"
   ]
  },
  {
   "cell_type": "code",
   "execution_count": 188,
   "metadata": {
    "collapsed": true
   },
   "outputs": [],
   "source": [
    "target_dF = (target_freqs - current_freqs) ** 2"
   ]
  },
  {
   "cell_type": "code",
   "execution_count": 189,
   "metadata": {
    "collapsed": false
   },
   "outputs": [
    {
     "data": {
      "text/plain": [
       "array([  1072.41247448,   1801.75701947,   3801.04449148,  11292.69979243,\n",
       "         9053.27646867,  16531.6242485 ])"
      ]
     },
     "execution_count": 189,
     "metadata": {},
     "output_type": "execute_result"
    }
   ],
   "source": [
    "Delta_F = np.linalg.solve(tuning_mat, target_dF)\n",
    "Delta_F"
   ]
  },
  {
   "cell_type": "markdown",
   "metadata": {},
   "source": [
    "On doit prendre la racine de ce grand F pour trouver les fréquences à appliquer :"
   ]
  },
  {
   "cell_type": "code",
   "execution_count": 190,
   "metadata": {
    "collapsed": false
   },
   "outputs": [
    {
     "data": {
      "text/plain": [
       "array([  32.74770945,   42.44710849,   61.65261139,  106.26711529,\n",
       "         95.14870713,  128.57536408])"
      ]
     },
     "execution_count": 190,
     "metadata": {},
     "output_type": "execute_result"
    }
   ],
   "source": [
    "np.sqrt(Delta_F)"
   ]
  },
  {
   "cell_type": "code",
   "execution_count": 191,
   "metadata": {
    "collapsed": false
   },
   "outputs": [
    {
     "data": {
      "text/plain": [
       "array([  0.5,   5.2,  33.6,  74.5,  32.7,  92.1])"
      ]
     },
     "execution_count": 191,
     "metadata": {},
     "output_type": "execute_result"
    }
   ],
   "source": [
    "np.sqrt(np.dot(tuning_mat, Delta_F))"
   ]
  },
  {
   "cell_type": "code",
   "execution_count": 192,
   "metadata": {
    "collapsed": false
   },
   "outputs": [
    {
     "data": {
      "text/plain": [
       "array([  81.9,  104.8,  113.2,  121.5,  214.2,  237.5])"
      ]
     },
     "execution_count": 192,
     "metadata": {},
     "output_type": "execute_result"
    }
   ],
   "source": [
    "np.sqrt(current_F)"
   ]
  },
  {
   "cell_type": "code",
   "execution_count": 194,
   "metadata": {
    "collapsed": false
   },
   "outputs": [
    {
     "data": {
      "text/plain": [
       "array([  82.4,  110. ,  146.8,  196. ,  246.9,  329.6])"
      ]
     },
     "execution_count": 194,
     "metadata": {},
     "output_type": "execute_result"
    }
   ],
   "source": [
    "current_freqs + np.sqrt(np.dot(tuning_mat, Delta_F))"
   ]
  },
  {
   "cell_type": "markdown",
   "metadata": {},
   "source": [
    "Cela devrait marcher. Voyons voir quels deltas de fréquence il faut imposer."
   ]
  },
  {
   "cell_type": "code",
   "execution_count": 195,
   "metadata": {
    "collapsed": false
   },
   "outputs": [
    {
     "data": {
      "text/plain": [
       "array([  32.74770945,   42.44710849,   61.65261139,  106.26711529,\n",
       "         95.14870713,  128.57536408])"
      ]
     },
     "execution_count": 195,
     "metadata": {},
     "output_type": "execute_result"
    }
   ],
   "source": [
    "np.sqrt(Delta_F)"
   ]
  },
  {
   "cell_type": "markdown",
   "metadata": {},
   "source": [
    "Testons !"
   ]
  },
  {
   "cell_type": "code",
   "execution_count": 196,
   "metadata": {
    "collapsed": false
   },
   "outputs": [
    {
     "data": {
      "text/plain": [
       "array([ 114.64770945,  147.24710849,  174.85261139,  227.76711529,\n",
       "        309.34870713,  366.07536408])"
      ]
     },
     "execution_count": 196,
     "metadata": {},
     "output_type": "execute_result"
    }
   ],
   "source": [
    "current_freqs + np.sqrt(Delta_F)"
   ]
  },
  {
   "cell_type": "markdown",
   "metadata": {},
   "source": [
    "Conclusion : ça n'a pas marché et le pont n'a pas arrêté de monter. Je pense que cela vient d'autre chose : la tension du set de cordes n'était pas adaptée !!! \n",
    "\n",
    "Je change donc de set de cordes et je recommence."
   ]
  },
  {
   "cell_type": "markdown",
   "metadata": {},
   "source": [
    "# Nouvel essai "
   ]
  },
  {
   "cell_type": "markdown",
   "metadata": {},
   "source": [
    "J'ai mis des nouvelles cordes dont les propriétés sont les suivantes :\n",
    "\n",
    "- mi aigu .009 5.94 kg\n",
    "- si .011 4.99 kg\n",
    "- sol .016 6.67 kg\n",
    "- ré .026 8.34 kg\n",
    "- la .036 8.84 kg\n",
    "- mi grave .046 7.94 kg"
   ]
  },
  {
   "cell_type": "markdown",
   "metadata": {},
   "source": [
    "On en déduit les $\\mu_i$ :"
   ]
  },
  {
   "cell_type": "code",
   "execution_count": 199,
   "metadata": {
    "collapsed": true
   },
   "outputs": [],
   "source": [
    "freqs = np.array([82.4, 110., 146.8, 196., 246.9, 329.6]) # frequencies of the guitar strings, from low E to high E, in Hz\n",
    "calibration_tensions = np.array([7.94, 8.84, 8.34, 6.67, 4.99, 5.94]) * 9.81 # calibration tensions found on package (in kg) converted to N\n",
    "mu = calibration_tensions / (4 * 0.648**2 * freqs**2) "
   ]
  },
  {
   "cell_type": "code",
   "execution_count": 200,
   "metadata": {
    "collapsed": false
   },
   "outputs": [
    {
     "data": {
      "text/plain": [
       "array([ 0.00683007,  0.00426703,  0.00226034,  0.00101408,  0.0004781 ,\n",
       "        0.00031935])"
      ]
     },
     "execution_count": 200,
     "metadata": {},
     "output_type": "execute_result"
    }
   ],
   "source": [
    "mu"
   ]
  },
  {
   "cell_type": "markdown",
   "metadata": {},
   "source": [
    "J'ai remesuré la longueur des cordes et j'ai trouvé 65 cm."
   ]
  },
  {
   "cell_type": "markdown",
   "metadata": {},
   "source": [
    "On en déduit les Psi_i :"
   ]
  },
  {
   "cell_type": "code",
   "execution_count": 201,
   "metadata": {
    "collapsed": true
   },
   "outputs": [],
   "source": [
    "psi = 4 * 0.648**2 * mu"
   ]
  },
  {
   "cell_type": "code",
   "execution_count": 202,
   "metadata": {
    "collapsed": false
   },
   "outputs": [
    {
     "data": {
      "text/plain": [
       "array([ 0.01147189,  0.00716698,  0.0037965 ,  0.00170327,  0.00080302,\n",
       "        0.00053639])"
      ]
     },
     "execution_count": 202,
     "metadata": {},
     "output_type": "execute_result"
    }
   ],
   "source": [
    "psi"
   ]
  },
  {
   "cell_type": "markdown",
   "metadata": {},
   "source": [
    "On peut maintenant remesurer les différentes fréquences sur la guitare :"
   ]
  },
  {
   "cell_type": "code",
   "execution_count": 204,
   "metadata": {
    "collapsed": false
   },
   "outputs": [],
   "source": [
    "lines = \"\"\"83,55\t94,70\t193,7\t138,8\t203\t190\n",
    "89,2\t93,3\t192,55\t135,2\t200,55\t186,9\n",
    "87,8\t99,2\t191,25\t130,9\t197,85\t183,7\"\"\".replace(',', '.').split('\\n')"
   ]
  },
  {
   "cell_type": "code",
   "execution_count": 207,
   "metadata": {
    "collapsed": false
   },
   "outputs": [
    {
     "data": {
      "text/plain": [
       "array([[  83.55,   94.7 ,  193.7 ,  138.8 ,  203.  ,  190.  ],\n",
       "       [  89.2 ,   93.3 ,  192.55,  135.2 ,  200.55,  186.9 ],\n",
       "       [  87.8 ,   99.2 ,  191.25,  130.9 ,  197.85,  183.7 ]])"
      ]
     },
     "execution_count": 207,
     "metadata": {},
     "output_type": "execute_result"
    }
   ],
   "source": [
    "history = np.array([line.split('\\t') for line in lines], dtype=np.float)\n",
    "history"
   ]
  },
  {
   "cell_type": "code",
   "execution_count": 209,
   "metadata": {
    "collapsed": false
   },
   "outputs": [],
   "source": [
    "T = (history ** 2) * psi"
   ]
  },
  {
   "cell_type": "code",
   "execution_count": 210,
   "metadata": {
    "collapsed": true
   },
   "outputs": [],
   "source": [
    "mat1, rhs1 = make_matrix(T[1, :], T[0, :])\n",
    "mat2, rhs2 = make_matrix(T[2, :], T[1, :])"
   ]
  },
  {
   "cell_type": "code",
   "execution_count": 211,
   "metadata": {
    "collapsed": true
   },
   "outputs": [],
   "source": [
    "total_mat = np.vstack((mat1, mat2))\n",
    "total_rhs = np.vstack((rhs1[:, np.newaxis], \n",
    "                       rhs2[:, np.newaxis]))"
   ]
  },
  {
   "cell_type": "code",
   "execution_count": 212,
   "metadata": {
    "collapsed": true
   },
   "outputs": [],
   "source": [
    "rho, err, rank, eigs = np.linalg.lstsq(total_mat, total_rhs)"
   ]
  },
  {
   "cell_type": "code",
   "execution_count": 213,
   "metadata": {
    "collapsed": false
   },
   "outputs": [
    {
     "data": {
      "text/plain": [
       "array([[ 0.68364021],\n",
       "       [ 0.38595602],\n",
       "       [ 0.35713731],\n",
       "       [ 0.36234102],\n",
       "       [ 0.12312326],\n",
       "       [ 0.07544867]])"
      ]
     },
     "execution_count": 213,
     "metadata": {},
     "output_type": "execute_result"
    }
   ],
   "source": [
    "rho"
   ]
  },
  {
   "cell_type": "code",
   "execution_count": 214,
   "metadata": {
    "collapsed": false
   },
   "outputs": [
    {
     "data": {
      "text/plain": [
       "array([ 15.1809818])"
      ]
     },
     "execution_count": 214,
     "metadata": {},
     "output_type": "execute_result"
    }
   ],
   "source": [
    "err"
   ]
  },
  {
   "cell_type": "markdown",
   "metadata": {},
   "source": [
    "Cette fois-ci on constate que les rho_i sont dans l'ordre !"
   ]
  },
  {
   "cell_type": "code",
   "execution_count": 215,
   "metadata": {
    "collapsed": false
   },
   "outputs": [
    {
     "data": {
      "text/plain": [
       "array([[ 1.86173921],\n",
       "       [ 1.79984672],\n",
       "       [ 1.86626743],\n",
       "       [ 0.34330066],\n",
       "       [ 0.02756061]])"
      ]
     },
     "execution_count": 215,
     "metadata": {},
     "output_type": "execute_result"
    }
   ],
   "source": [
    "np.dot(mat1, rho)"
   ]
  },
  {
   "cell_type": "code",
   "execution_count": 216,
   "metadata": {
    "collapsed": false
   },
   "outputs": [
    {
     "data": {
      "text/plain": [
       "array([ 1.88634787,  1.68635607,  1.68010244,  0.79394572,  0.62671325])"
      ]
     },
     "execution_count": 216,
     "metadata": {},
     "output_type": "execute_result"
    }
   ],
   "source": [
    "rhs1"
   ]
  },
  {
   "cell_type": "code",
   "execution_count": 217,
   "metadata": {
    "collapsed": false
   },
   "outputs": [
    {
     "data": {
      "text/plain": [
       "array([[ 1.01157584],\n",
       "       [-0.12690092],\n",
       "       [-0.17216428],\n",
       "       [-0.38132147],\n",
       "       [-0.40471716]])"
      ]
     },
     "execution_count": 217,
     "metadata": {},
     "output_type": "execute_result"
    }
   ],
   "source": [
    "np.dot(mat2, rho)"
   ]
  },
  {
   "cell_type": "code",
   "execution_count": 218,
   "metadata": {
    "collapsed": false
   },
   "outputs": [
    {
     "data": {
      "text/plain": [
       "array([ 2.84273508,  1.89422372,  1.94892905,  0.86379456,  0.63611618])"
      ]
     },
     "execution_count": 218,
     "metadata": {},
     "output_type": "execute_result"
    }
   ],
   "source": [
    "rhs2"
   ]
  },
  {
   "cell_type": "code",
   "execution_count": 219,
   "metadata": {
    "collapsed": false
   },
   "outputs": [
    {
     "data": {
      "text/plain": [
       "array([[ 1.86173921],\n",
       "       [ 1.79984672],\n",
       "       [ 1.86626743],\n",
       "       [ 0.34330066],\n",
       "       [ 0.02756061],\n",
       "       [ 1.01157584],\n",
       "       [-0.12690092],\n",
       "       [-0.17216428],\n",
       "       [-0.38132147],\n",
       "       [-0.40471716]])"
      ]
     },
     "execution_count": 219,
     "metadata": {},
     "output_type": "execute_result"
    }
   ],
   "source": [
    "np.dot(total_mat, rho)"
   ]
  },
  {
   "cell_type": "code",
   "execution_count": 220,
   "metadata": {
    "collapsed": false
   },
   "outputs": [
    {
     "data": {
      "text/plain": [
       "array([[ 1.88634787],\n",
       "       [ 1.68635607],\n",
       "       [ 1.68010244],\n",
       "       [ 0.79394572],\n",
       "       [ 0.62671325],\n",
       "       [ 2.84273508],\n",
       "       [ 1.89422372],\n",
       "       [ 1.94892905],\n",
       "       [ 0.86379456],\n",
       "       [ 0.63611618]])"
      ]
     },
     "execution_count": 220,
     "metadata": {},
     "output_type": "execute_result"
    }
   ],
   "source": [
    "total_rhs"
   ]
  },
  {
   "cell_type": "markdown",
   "metadata": {},
   "source": [
    "Bizarre la vérification..."
   ]
  },
  {
   "cell_type": "code",
   "execution_count": 223,
   "metadata": {
    "collapsed": false
   },
   "outputs": [],
   "source": [
    "tuning_mat = compute_tuning_matrix(psi, rho)"
   ]
  },
  {
   "cell_type": "code",
   "execution_count": 224,
   "metadata": {
    "collapsed": false
   },
   "outputs": [
    {
     "data": {
      "text/plain": [
       "array([[ 1.        , -0.16416206, -0.08600736, -0.03866298, -0.01670581,\n",
       "        -0.01097622],\n",
       "       [-0.2681349 ,  1.        , -0.07772219, -0.03493854, -0.01509652,\n",
       "        -0.00991887],\n",
       "       [-0.46838578, -0.25913886,  1.        , -0.06103165, -0.02637104,\n",
       "        -0.01732656],\n",
       "       [-1.05922014, -0.58602356, -0.30702796,  1.        , -0.05963618,\n",
       "        -0.03918276],\n",
       "       [-0.7634211 , -0.42236995, -0.22128698, -0.09947538,  1.        ,\n",
       "        -0.02824053],\n",
       "       [-0.70036106, -0.38748138, -0.20300825, -0.09125852, -0.03943171,\n",
       "         1.        ]])"
      ]
     },
     "execution_count": 224,
     "metadata": {},
     "output_type": "execute_result"
    }
   ],
   "source": [
    "tuning_mat"
   ]
  },
  {
   "cell_type": "code",
   "execution_count": 225,
   "metadata": {
    "collapsed": true
   },
   "outputs": [],
   "source": [
    "target_freqs = freqs.copy()"
   ]
  },
  {
   "cell_type": "code",
   "execution_count": 226,
   "metadata": {
    "collapsed": true
   },
   "outputs": [],
   "source": [
    "current_freqs = history[2, :]"
   ]
  },
  {
   "cell_type": "code",
   "execution_count": 228,
   "metadata": {
    "collapsed": false
   },
   "outputs": [
    {
     "data": {
      "text/plain": [
       "array([  -5.4 ,   10.8 ,  -44.45,   65.1 ,   49.05,  145.9 ])"
      ]
     },
     "execution_count": 228,
     "metadata": {},
     "output_type": "execute_result"
    }
   ],
   "source": [
    "target_freqs - current_freqs"
   ]
  },
  {
   "cell_type": "code",
   "execution_count": 227,
   "metadata": {
    "collapsed": true
   },
   "outputs": [],
   "source": [
    "target_dF = (target_freqs - current_freqs) ** 2"
   ]
  },
  {
   "cell_type": "code",
   "execution_count": 229,
   "metadata": {
    "collapsed": false
   },
   "outputs": [
    {
     "data": {
      "text/plain": [
       "array([  1366.2601893 ,   1472.7920829 ,   4161.43823636,   9189.9578263 ,\n",
       "         6605.23136645,  24758.28871927])"
      ]
     },
     "execution_count": 229,
     "metadata": {},
     "output_type": "execute_result"
    }
   ],
   "source": [
    "Delta_F = np.linalg.solve(tuning_mat, target_dF)\n",
    "Delta_F"
   ]
  },
  {
   "cell_type": "code",
   "execution_count": 230,
   "metadata": {
    "collapsed": false
   },
   "outputs": [
    {
     "data": {
      "text/plain": [
       "array([  36.96295699,   38.37697334,   64.50921048,   95.86426772,\n",
       "         81.2725745 ,  157.3476683 ])"
      ]
     },
     "execution_count": 230,
     "metadata": {},
     "output_type": "execute_result"
    }
   ],
   "source": [
    "np.sqrt(Delta_F)"
   ]
  },
  {
   "cell_type": "code",
   "execution_count": 231,
   "metadata": {
    "collapsed": false
   },
   "outputs": [
    {
     "name": "stdout",
     "output_type": "stream",
     "text": [
      "36.96\n",
      "38.38\n",
      "64.51\n",
      "95.86\n",
      "81.27\n",
      "157.35\n"
     ]
    }
   ],
   "source": [
    "for _ in np.sqrt(Delta_F):\n",
    "    print(\"{:.2f}\".format(_))"
   ]
  },
  {
   "cell_type": "code",
   "execution_count": null,
   "metadata": {
    "collapsed": true
   },
   "outputs": [],
   "source": []
  }
 ],
 "metadata": {
  "kernelspec": {
   "display_name": "Python 3",
   "language": "python",
   "name": "python3"
  },
  "language_info": {
   "codemirror_mode": {
    "name": "ipython",
    "version": 3
   },
   "file_extension": ".py",
   "mimetype": "text/x-python",
   "name": "python",
   "nbconvert_exporter": "python",
   "pygments_lexer": "ipython3",
   "version": "3.4.3"
  }
 },
 "nbformat": 4,
 "nbformat_minor": 0
}
